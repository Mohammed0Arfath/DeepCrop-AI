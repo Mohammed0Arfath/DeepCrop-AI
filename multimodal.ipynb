{
 "cells": [
  {
   "cell_type": "code",
   "execution_count": 1,
   "id": "36687776",
   "metadata": {},
   "outputs": [],
   "source": [
    "import os\n",
    "import io\n",
    "import cv2\n",
    "import numpy as np\n",
    "import pandas as pd\n",
    "import ipywidgets as widgets\n",
    "from IPython.display import display, clear_output\n",
    "from PIL import Image\n",
    "from ultralytics import YOLO\n",
    "from pytorch_tabnet.tab_model import TabNetClassifier\n",
    "import torch\n"
   ]
  },
  {
   "cell_type": "code",
   "execution_count": 2,
   "id": "6994d85f",
   "metadata": {},
   "outputs": [
    {
     "name": "stdout",
     "output_type": "stream",
     "text": [
      "✅ Successfully loaded 30 questions from the dataset.\n",
      "✅ Successfully loaded 30 questions from the dataset.\n"
     ]
    },
    {
     "name": "stderr",
     "output_type": "stream",
     "text": [
      "c:\\Users\\moham\\Agrithon\\venv\\Lib\\site-packages\\pytorch_tabnet\\abstract_model.py:82: UserWarning: Device used : cpu\n",
      "  warnings.warn(f\"Device used : {self.device}\")\n"
     ]
    }
   ],
   "source": [
    "\n",
    "# === Model Setup ===\n",
    "yolo_disease = YOLO(\"outputs/crop_diseases_aug_model/weights/best.pt\", task=\"segment\")\n",
    "yolo_insect = YOLO(\"outputs/crop_insects_aug_model/weights/best.pt\", task=\"detect\")\n",
    "\n",
    "tabnet_disease = TabNetClassifier()\n",
    "tabnet_disease.load_model(\"disease_model_v1.zip\")\n",
    "\n",
    "tabnet_insect = TabNetClassifier()\n",
    "tabnet_insect.load_model(\"insect_model_v1.zip\")\n",
    "\n",
    "try:\n",
    "    # Load the same CSV your model was trained on\n",
    "    df = pd.read_csv('synthetic_disease_presence_30_questions.csv')\n",
    "    # Get the feature names by dropping the target column ('Disease_Present')\n",
    "    disease_questions = df.drop('Disease_Present', axis=1).columns.tolist()\n",
    "    print(f\"✅ Successfully loaded {len(disease_questions)} questions from the dataset.\")\n",
    "except FileNotFoundError:\n",
    "    print(\"❌ Error: 'synthetic_disease_presence_30_questions.csv' not found.\")\n",
    "    print(\"Please make sure the CSV file is in the correct directory.\")\n",
    "    exit()\n",
    "except Exception as e:\n",
    "    print(f\"❌ An error occurred while loading questions: {e}\")\n",
    "    exit()\n",
    "\n",
    "try:\n",
    "    # Load the same CSV your model was trained on\n",
    "    df = pd.read_csv('synthetic_insect_presence_30_questions.csv')\n",
    "    # Get the feature names by dropping the target column ('Disease_Present')\n",
    "    insect_questions = df.drop('Insect_Present', axis=1).columns.tolist()\n",
    "    print(f\"✅ Successfully loaded {len(insect_questions)} questions from the dataset.\")\n",
    "except FileNotFoundError:\n",
    "    print(\"❌ Error: 'synthetic_insect_presence_30_questions.csv' not found.\")\n",
    "    print(\"Please make sure the CSV file is in the correct directory.\")\n",
    "    exit()\n",
    "except Exception as e:\n",
    "    print(f\"❌ An error occurred while loading questions: {e}\")\n",
    "    exit()\n",
    "\n"
   ]
  },
  {
   "cell_type": "code",
   "execution_count": 3,
   "id": "fdc10142",
   "metadata": {},
   "outputs": [],
   "source": [
    "\n",
    "# === Upload Widgets ===\n",
    "disease_upload = widgets.FileUpload(accept='image/*', multiple=False, description=\"📤 Upload Crop Disease Image\")\n",
    "insect_upload = widgets.FileUpload(accept='image/*', multiple=False, description=\"📤 Upload Insect Image\")\n"
   ]
  },
  {
   "cell_type": "code",
   "execution_count": 4,
   "id": "00b1f4dd",
   "metadata": {},
   "outputs": [],
   "source": [
    "# === Toggle Questions ===\n",
    "def create_questionnaire(questions):\n",
    "    toggles = []\n",
    "    for q in questions:\n",
    "        toggles.append(widgets.ToggleButtons(\n",
    "            options=[\"Yes\", \"No\"],\n",
    "            description=q,\n",
    "            style={\"description_width\": \"initial\"},\n",
    "            layout=widgets.Layout(width='100%')\n",
    "        ))\n",
    "    return toggles\n",
    "\n",
    "disease_toggles = create_questionnaire(disease_questions)\n",
    "insect_toggles = create_questionnaire(insect_questions)\n",
    "\n",
    "run_btn = widgets.Button(description=\"🚀 Run Multimodal Prediction\", button_style=\"success\")\n",
    "output = widgets.Output()\n"
   ]
  },
  {
   "cell_type": "code",
   "execution_count": null,
   "id": "d22e8d1c",
   "metadata": {},
   "outputs": [],
   "source": [
    "\n",
    "# === Logic ===\n",
    "def predict_yolo(model, image_np, task, conf_threshold=0.4):\n",
    "    temp_path = \"temp_input.jpg\"\n",
    "    cv2.imwrite(temp_path, image_np)\n",
    "    results = model.predict(temp_path, save=False, conf=conf_threshold)\n",
    "    \n",
    "    if task == \"segment\":\n",
    "        if results[0].masks is not None:\n",
    "            return len(results[0].masks.data)\n",
    "        else:\n",
    "            return 0\n",
    "    else:  # task == \"detect\"\n",
    "        if results[0].boxes is not None:\n",
    "            # Filter by confidence\n",
    "            confs = results[0].boxes.conf.cpu().numpy()\n",
    "            return np.sum(confs > conf_threshold)\n",
    "        else:\n",
    "            return 0\n",
    "\n",
    "def predict_tabnet(model, toggles):\n",
    "    # Convert answers into features\n",
    "    features = [[1 if toggle.value == \"Yes\" else 0 for toggle in toggles]]\n",
    "    features = np.array(features).astype(np.float32)\n",
    "    \n",
    "    # Convert to tensor\n",
    "    features_tensor = torch.tensor(features).to(model.device)\n",
    "    \n",
    "    # Run prediction\n",
    "    with torch.no_grad():\n",
    "        preds = model.predict(features_tensor.cpu().numpy())  # TabNet uses numpy input\n",
    "    return int(preds[0])\n",
    "\n",
    "def on_run_clicked(b):\n",
    "    with output:\n",
    "        clear_output()\n",
    "        if len(disease_upload.value) == 0 or len(insect_upload.value) == 0:\n",
    "            print(\"⚠️ Please upload both disease and insect images.\")\n",
    "            return\n",
    "\n",
    "        disease_file = disease_upload.value[0]\n",
    "        insect_file = insect_upload.value[0]\n",
    "\n",
    "        disease_img_bytes = disease_file['content']\n",
    "        insect_img_bytes = insect_file['content']\n",
    "\n",
    "        disease_image = np.array(Image.open(io.BytesIO(disease_img_bytes)).convert(\"RGB\"))\n",
    "        insect_image = np.array(Image.open(io.BytesIO(insect_img_bytes)).convert(\"RGB\"))\n",
    "\n",
    "        # === YOLO Prediction with Visualization\n",
    "        disease_temp = \"temp_disease.jpg\"\n",
    "        insect_temp = \"temp_insect.jpg\"\n",
    "        cv2.imwrite(disease_temp, disease_image)\n",
    "        cv2.imwrite(insect_temp, insect_image)\n",
    "\n",
    "        # Run YOLO and get annotated image\n",
    "        disease_results = yolo_disease.predict(disease_temp, save=False, conf=0.4)\n",
    "        insect_results = yolo_insect.predict(insect_temp, save=False, conf=0.6)\n",
    "\n",
    "        yolo_disease_output = len(disease_results[0].masks.data) if disease_results[0].masks else 0\n",
    "        yolo_insect_output = len(insect_results[0].boxes.data) if insect_results[0].boxes else 0\n",
    "\n",
    "        # Show YOLO visual result images\n",
    "        print(\"🖼️ YOLO Prediction - Crop Disease\")\n",
    "        disease_annotated = disease_results[0].plot()  # BGR image with overlays\n",
    "        display(Image.fromarray(cv2.cvtColor(disease_annotated, cv2.COLOR_BGR2RGB)))\n",
    "\n",
    "        print(\"🖼️ YOLO Prediction - Insect Detection\")\n",
    "        insect_annotated = insect_results[0].plot()\n",
    "        display(Image.fromarray(cv2.cvtColor(insect_annotated, cv2.COLOR_BGR2RGB)))\n",
    "\n",
    "        # === TabNet Prediction\n",
    "        tabnet_disease_output = predict_tabnet(tabnet_disease, disease_toggles)\n",
    "        tabnet_insect_output = predict_tabnet(tabnet_insect, insect_toggles)\n",
    "\n",
    "        # === Fusion Logic\n",
    "        YOLO_BOX_THRESH = 1\n",
    "        TABNET_CONF_THRESH = 1\n",
    "\n",
    "        disease_present = (yolo_disease_output >= YOLO_BOX_THRESH) and (tabnet_disease_output >= TABNET_CONF_THRESH)\n",
    "        insect_present = (yolo_insect_output >= YOLO_BOX_THRESH) and (tabnet_insect_output >= TABNET_CONF_THRESH)\n",
    "\n",
    "        # === Final Display ===\n",
    "        print(\"\\n🔍 Multimodal Fusion Results\")\n",
    "        print(\"🦠 Disease:\")\n",
    "        print(f\"🔬 YOLO Masks Detected: {yolo_disease_output}\")\n",
    "        print(f\"🧠 TabNet Prediction: {'Present' if tabnet_disease_output == 1 else 'Not Present'}\")\n",
    "        print(f\"✅ Final: {'Disease Present' if disease_present else 'No Disease Detected'}\")\n",
    "\n",
    "        print(\"\\n🐛 Insect:\")\n",
    "        print(f\"🔬 YOLO Boxes Detected: {yolo_insect_output}\")\n",
    "        print(f\"🧠 TabNet Prediction: {'Present' if tabnet_insect_output == 1 else 'Not Present'}\")\n",
    "        print(f\"✅ Final: {'Insect Present' if insect_present else 'No Insect Detected'}\")\n",
    "\n",
    "\n",
    "run_btn.on_click(on_run_clicked)\n",
    "\n"
   ]
  },
  {
   "cell_type": "code",
   "execution_count": 6,
   "id": "6ba46aa7",
   "metadata": {},
   "outputs": [
    {
     "data": {
      "application/vnd.jupyter.widget-view+json": {
       "model_id": "b4692a1d07bc430ba41f07baf1f078c1",
       "version_major": 2,
       "version_minor": 0
      },
      "text/plain": [
       "HTML(value='<h3>Upload images and answer the questions below:</h3>')"
      ]
     },
     "metadata": {},
     "output_type": "display_data"
    },
    {
     "data": {
      "application/vnd.jupyter.widget-view+json": {
       "model_id": "aad82654070849dbbfe2647555025ae9",
       "version_major": 2,
       "version_minor": 0
      },
      "text/plain": [
       "HBox(children=(FileUpload(value=(), accept='image/*', description='📤 Upload Crop Disease Image'), FileUpload(v…"
      ]
     },
     "metadata": {},
     "output_type": "display_data"
    },
    {
     "data": {
      "application/vnd.jupyter.widget-view+json": {
       "model_id": "b43ebf232dea45f7a59a16b454fe3ddd",
       "version_major": 2,
       "version_minor": 0
      },
      "text/plain": [
       "HTML(value='<h4>🦠 Crop Disease Questions</h4>')"
      ]
     },
     "metadata": {},
     "output_type": "display_data"
    },
    {
     "data": {
      "application/vnd.jupyter.widget-view+json": {
       "model_id": "cacc90c26dfb4a799830a95148a5d8cd",
       "version_major": 2,
       "version_minor": 0
      },
      "text/plain": [
       "VBox(children=(ToggleButtons(description='Is there a yellow halo around the spots?', layout=Layout(width='100%…"
      ]
     },
     "metadata": {},
     "output_type": "display_data"
    },
    {
     "data": {
      "application/vnd.jupyter.widget-view+json": {
       "model_id": "e013dcf7b26a495da01321e8e1083f98",
       "version_major": 2,
       "version_minor": 0
      },
      "text/plain": [
       "HTML(value='<h4>🐛 Crop Insect Questions</h4>')"
      ]
     },
     "metadata": {},
     "output_type": "display_data"
    },
    {
     "data": {
      "application/vnd.jupyter.widget-view+json": {
       "model_id": "d9f7bbfecf4e4a3dada5c4333efe613c",
       "version_major": 2,
       "version_minor": 0
      },
      "text/plain": [
       "VBox(children=(ToggleButtons(description='Is the pest in the image an armyworm?', layout=Layout(width='100%'),…"
      ]
     },
     "metadata": {},
     "output_type": "display_data"
    },
    {
     "data": {
      "application/vnd.jupyter.widget-view+json": {
       "model_id": "94b78fd3c024406995bd45cee28de1c7",
       "version_major": 2,
       "version_minor": 0
      },
      "text/plain": [
       "Button(button_style='success', description='🚀 Run Multimodal Prediction', style=ButtonStyle())"
      ]
     },
     "metadata": {},
     "output_type": "display_data"
    },
    {
     "data": {
      "application/vnd.jupyter.widget-view+json": {
       "model_id": "4660f7520ea14f338e064ab5ae6f9d3d",
       "version_major": 2,
       "version_minor": 0
      },
      "text/plain": [
       "Output()"
      ]
     },
     "metadata": {},
     "output_type": "display_data"
    }
   ],
   "source": [
    "# === Display All ===\n",
    "display(widgets.HTML(\"<h3>Upload images and answer the questions below:</h3>\"))\n",
    "display(widgets.HBox([disease_upload, insect_upload]))\n",
    "display(widgets.HTML(\"<h4>🦠 Crop Disease Questions</h4>\"))\n",
    "display(widgets.VBox(disease_toggles))\n",
    "display(widgets.HTML(\"<h4>🐛 Crop Insect Questions</h4>\"))\n",
    "display(widgets.VBox(insect_toggles))\n",
    "display(run_btn)\n",
    "display(output)"
   ]
  },
  {
   "cell_type": "code",
   "execution_count": 13,
   "id": "5fc88c7a",
   "metadata": {},
   "outputs": [
    {
     "name": "stdout",
     "output_type": "stream",
     "text": [
      "✅ CSV datasets loaded successfully.\n"
     ]
    },
    {
     "name": "stderr",
     "output_type": "stream",
     "text": [
      "c:\\Users\\moham\\Agrithon\\venv\\Lib\\site-packages\\pytorch_tabnet\\abstract_model.py:82: UserWarning: Device used : cpu\n",
      "  warnings.warn(f\"Device used : {self.device}\")\n"
     ]
    },
    {
     "name": "stdout",
     "output_type": "stream",
     "text": [
      "\n",
      "Running YOLO Inference (using dummy images as placeholders)...\n",
      "YOLO Inference complete.\n",
      "\n",
      "🌾 High-Confidence Multimodal Fusion Evaluation (AND Logic)\n",
      "---------------------------------------------\n",
      "\n",
      "🦠 Disease Prediction:\n",
      "Accuracy: 50.00%\n",
      "              precision    recall  f1-score   support\n",
      "\n",
      " Not Present       0.50      1.00      0.67        15\n",
      "     Present       0.00      0.00      0.00        15\n",
      "\n",
      "    accuracy                           0.50        30\n",
      "   macro avg       0.25      0.50      0.33        30\n",
      "weighted avg       0.25      0.50      0.33        30\n",
      "\n",
      "\n",
      "🐛 Insect Prediction:\n",
      "Accuracy: 53.33%\n",
      "              precision    recall  f1-score   support\n",
      "\n",
      " Not Present       0.53      1.00      0.70        16\n",
      "     Present       0.00      0.00      0.00        14\n",
      "\n",
      "    accuracy                           0.53        30\n",
      "   macro avg       0.27      0.50      0.35        30\n",
      "weighted avg       0.28      0.53      0.37        30\n",
      "\n",
      "\n",
      "---------------------------------------------\n",
      "✅ Combined Multimodal Accuracy: 51.67%\n"
     ]
    },
    {
     "name": "stderr",
     "output_type": "stream",
     "text": [
      "c:\\Users\\moham\\Agrithon\\venv\\Lib\\site-packages\\sklearn\\metrics\\_classification.py:1731: UndefinedMetricWarning: Precision is ill-defined and being set to 0.0 in labels with no predicted samples. Use `zero_division` parameter to control this behavior.\n",
      "  _warn_prf(average, modifier, f\"{metric.capitalize()} is\", result.shape[0])\n",
      "c:\\Users\\moham\\Agrithon\\venv\\Lib\\site-packages\\sklearn\\metrics\\_classification.py:1731: UndefinedMetricWarning: Precision is ill-defined and being set to 0.0 in labels with no predicted samples. Use `zero_division` parameter to control this behavior.\n",
      "  _warn_prf(average, modifier, f\"{metric.capitalize()} is\", result.shape[0])\n",
      "c:\\Users\\moham\\Agrithon\\venv\\Lib\\site-packages\\sklearn\\metrics\\_classification.py:1731: UndefinedMetricWarning: Precision is ill-defined and being set to 0.0 in labels with no predicted samples. Use `zero_division` parameter to control this behavior.\n",
      "  _warn_prf(average, modifier, f\"{metric.capitalize()} is\", result.shape[0])\n",
      "c:\\Users\\moham\\Agrithon\\venv\\Lib\\site-packages\\sklearn\\metrics\\_classification.py:1731: UndefinedMetricWarning: Precision is ill-defined and being set to 0.0 in labels with no predicted samples. Use `zero_division` parameter to control this behavior.\n",
      "  _warn_prf(average, modifier, f\"{metric.capitalize()} is\", result.shape[0])\n",
      "c:\\Users\\moham\\Agrithon\\venv\\Lib\\site-packages\\sklearn\\metrics\\_classification.py:1731: UndefinedMetricWarning: Precision is ill-defined and being set to 0.0 in labels with no predicted samples. Use `zero_division` parameter to control this behavior.\n",
      "  _warn_prf(average, modifier, f\"{metric.capitalize()} is\", result.shape[0])\n",
      "c:\\Users\\moham\\Agrithon\\venv\\Lib\\site-packages\\sklearn\\metrics\\_classification.py:1731: UndefinedMetricWarning: Precision is ill-defined and being set to 0.0 in labels with no predicted samples. Use `zero_division` parameter to control this behavior.\n",
      "  _warn_prf(average, modifier, f\"{metric.capitalize()} is\", result.shape[0])\n"
     ]
    }
   ],
   "source": [
    "import pandas as pd\n",
    "import numpy as np\n",
    "from sklearn.model_selection import train_test_split\n",
    "from sklearn.metrics import accuracy_score, classification_report\n",
    "from ultralytics import YOLO\n",
    "from pytorch_tabnet.tab_model import TabNetClassifier\n",
    "import os\n",
    "\n",
    "# === Step 1: Load CSVs ===\n",
    "try:\n",
    "    disease_df = pd.read_csv(\"synthetic_disease_presence_30_questions.csv\")\n",
    "    insect_df = pd.read_csv(\"synthetic_insect_presence_30_questions.csv\")\n",
    "    print(\"✅ CSV datasets loaded successfully.\")\n",
    "except FileNotFoundError as e:\n",
    "    print(f\"❌ Error loading CSV: {e}\")\n",
    "    print(\"Please make sure the synthetic dataset files are in the correct directory.\")\n",
    "    exit()\n",
    "\n",
    "# Simulate the 'Image' column, as it's missing from the synthetic data\n",
    "disease_df['Image'] = [f'disease_img_{i}.jpg' for i in range(len(disease_df))]\n",
    "insect_df['Image'] = [f'insect_img_{i}.jpg' for i in range(len(insect_df))]\n",
    "\n",
    "\n",
    "# === Step 2: Encode Data Correctly ===\n",
    "disease_df_encoded = disease_df.copy()\n",
    "insect_df_encoded = insect_df.copy()\n",
    "\n",
    "label_col_disease = 'Disease_Present'\n",
    "label_col_insect = 'Insect_Present'\n",
    "\n",
    "# Encode all feature columns (questions)\n",
    "question_cols_disease = disease_df.columns[:-2]\n",
    "question_cols_insect = insect_df.columns[:-2]\n",
    "\n",
    "for col in question_cols_disease:\n",
    "    disease_df_encoded[col] = disease_df_encoded[col].map({'Yes': 1, 'No': 0})\n",
    "\n",
    "for col in question_cols_insect:\n",
    "    insect_df_encoded[col] = insect_df_encoded[col].map({'Yes': 1, 'No': 0})\n",
    "\n",
    "# Use the correct mapping for labels\n",
    "disease_df_encoded[label_col_disease] = disease_df_encoded[label_col_disease].map({'Present': 1, 'Not Present': 0})\n",
    "insect_df_encoded[label_col_insect] = insect_df_encoded[label_col_insect].map({'Present': 1, 'Not Present': 0})\n",
    "\n",
    "# Drop rows where mapping might have failed\n",
    "disease_df_encoded.dropna(inplace=True)\n",
    "insect_df_encoded.dropna(inplace=True)\n",
    "\n",
    "# Convert label to int\n",
    "disease_df_encoded[label_col_disease] = disease_df_encoded[label_col_disease].astype(int)\n",
    "insect_df_encoded[label_col_insect] = insect_df_encoded[label_col_insect].astype(int)\n",
    "\n",
    "# === Step 3: Stratified Split ===\n",
    "_, val_disease = train_test_split(disease_df_encoded, test_size=0.2,\n",
    "                                  stratify=disease_df_encoded[label_col_disease], random_state=42)\n",
    "\n",
    "_, val_insect = train_test_split(insect_df_encoded, test_size=0.2,\n",
    "                                  stratify=insect_df_encoded[label_col_insect], random_state=42)\n",
    "\n",
    "# === Step 4: TabNet Prediction ===\n",
    "X_val_disease = val_disease[question_cols_disease].values.astype(np.float32)\n",
    "y_val_disease = val_disease[label_col_disease].values\n",
    "\n",
    "X_val_insect = val_insect[question_cols_insect].values.astype(np.float32)\n",
    "y_val_insect = val_insect[label_col_insect].values\n",
    "\n",
    "# Load TabNet Models\n",
    "try:\n",
    "    clf_disease = TabNetClassifier()\n",
    "    clf_disease.load_model(\"disease_model_v1.zip\")\n",
    "    clf_insect = TabNetClassifier()\n",
    "    clf_insect.load_model(\"insect_model_v1.zip\")\n",
    "except Exception as e:\n",
    "    print(f\"❌ Error loading TabNet model: {e}\")\n",
    "    exit()\n",
    "\n",
    "tabnet_disease_preds = clf_disease.predict(X_val_disease)\n",
    "tabnet_insect_preds = clf_insect.predict(X_val_insect)\n",
    "\n",
    "# === Step 5: YOLOv8 Inference ===\n",
    "# NOTE: This part uses FAKE image paths. Replace with real validation paths for a true evaluation.\n",
    "try:\n",
    "    yolo_disease = YOLO(\"outputs/crop_diseases_aug_model/weights/best.pt\")\n",
    "    yolo_insect = YOLO(\"outputs/crop_insects_aug_model/weights/best.pt\")\n",
    "except Exception as e:\n",
    "    print(f\"❌ Error loading YOLO model: {e}\")\n",
    "    exit()\n",
    "\n",
    "def predict_yolo(model, image_path, task):\n",
    "    # Create a dummy blank image if the path doesn't exist for demonstration\n",
    "    if not os.path.exists(image_path):\n",
    "        dummy_img = np.zeros((640, 640, 3), dtype=np.uint8)\n",
    "        results = model.predict(dummy_img, save=False, verbose=False)\n",
    "    else:\n",
    "        results = model.predict(image_path, save=False, verbose=False)\n",
    "\n",
    "    if task == \"segment\":\n",
    "        return len(results[0].masks) if results[0].masks else 0\n",
    "    else: # detect\n",
    "        return len(results[0].boxes) if results[0].boxes else 0\n",
    "\n",
    "# Extract image filenames from the validation set\n",
    "val_disease_images = val_disease[\"Image\"].values\n",
    "val_insect_images = val_insect[\"Image\"].values\n",
    "\n",
    "print(\"\\nRunning YOLO Inference (using dummy images as placeholders)...\")\n",
    "# Predict using YOLO (True if 1 or more detections, False otherwise)\n",
    "yolo_disease_preds = np.array([\n",
    "    predict_yolo(yolo_disease, os.path.join(\"Crop_Diseases_Aug/images/val\", img), task=\"segment\") > 0\n",
    "    for img in val_disease_images\n",
    "])\n",
    "yolo_insect_preds = np.array([\n",
    "    predict_yolo(yolo_insect, os.path.join(\"Crop_Insects_Aug/images/val\", img), task=\"detect\") > 0\n",
    "    for img in val_insect_images\n",
    "])\n",
    "print(\"YOLO Inference complete.\")\n",
    "\n",
    "# === Step 6: Multimodal Fusion Logic (AND) ===\n",
    "# This is the updated high-confidence logic.\n",
    "# The `&` operator ensures both models must agree for a \"Present\" prediction.\n",
    "final_disease_preds = yolo_disease_preds & (tabnet_disease_preds == 1)\n",
    "final_insect_preds = yolo_insect_preds & (tabnet_insect_preds == 1)\n",
    "\n",
    "# Convert boolean results to integers (1 for True, 0 for False)\n",
    "final_disease_preds = final_disease_preds.astype(int)\n",
    "final_insect_preds = final_insect_preds.astype(int)\n",
    "\n",
    "\n",
    "# Ground Truths\n",
    "true_disease = y_val_disease\n",
    "true_insect = y_val_insect\n",
    "\n",
    "# === Step 7: Evaluation ===\n",
    "print(\"\\n🌾 High-Confidence Multimodal Fusion Evaluation (AND Logic)\")\n",
    "print(\"---\" * 15)\n",
    "\n",
    "print(\"\\n🦠 Disease Prediction:\")\n",
    "print(f\"Accuracy: {accuracy_score(true_disease, final_disease_preds):.2%}\")\n",
    "print(classification_report(true_disease, final_disease_preds, target_names=[\"Not Present\", \"Present\"]))\n",
    "\n",
    "print(\"\\n🐛 Insect Prediction:\")\n",
    "print(f\"Accuracy: {accuracy_score(true_insect, final_insect_preds):.2%}\")\n",
    "print(classification_report(true_insect, final_insect_preds, target_names=[\"Not Present\", \"Present\"]))\n",
    "\n",
    "# === Step 8: Combined Multimodal Accuracy ===\n",
    "combined_accuracy = (\n",
    "    accuracy_score(true_disease, final_disease_preds) +\n",
    "    accuracy_score(true_insect, final_insect_preds)\n",
    ") / 2\n",
    "print(\"\\n\" + \"---\" * 15)\n",
    "print(f\"✅ Combined Multimodal Accuracy: {combined_accuracy:.2%}\")"
   ]
  }
 ],
 "metadata": {
  "kernelspec": {
   "display_name": "venv",
   "language": "python",
   "name": "python3"
  },
  "language_info": {
   "codemirror_mode": {
    "name": "ipython",
    "version": 3
   },
   "file_extension": ".py",
   "mimetype": "text/x-python",
   "name": "python",
   "nbconvert_exporter": "python",
   "pygments_lexer": "ipython3",
   "version": "3.13.2"
  }
 },
 "nbformat": 4,
 "nbformat_minor": 5
}
